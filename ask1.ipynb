{
 "metadata": {
  "language_info": {
   "codemirror_mode": {
    "name": "ipython",
    "version": 3
   },
   "file_extension": ".py",
   "mimetype": "text/x-python",
   "name": "python",
   "nbconvert_exporter": "python",
   "pygments_lexer": "ipython3",
   "version": "3.8.3-final"
  },
  "orig_nbformat": 2,
  "kernelspec": {
   "name": "python3",
   "display_name": "Python 3"
  }
 },
 "nbformat": 4,
 "nbformat_minor": 2,
 "cells": [
  {
   "source": [
    "# Question 1\n",
    "Answers for 1. and 2. [here](https://florian.github.io/reservoir-sampling/#appendix).\n",
    "Answers for 3 [here](https://blog.plover.com/prog/weighted-reservoir-sampling.html#goodpart)\n",
    "\n",
    "TODO: write the answers formally.\n"
   ],
   "cell_type": "markdown",
   "metadata": {}
  },
  {
   "cell_type": "code",
   "execution_count": 155,
   "metadata": {},
   "outputs": [],
   "source": [
    "import random\n",
    "import re\n",
    "\n",
    "def generate_data(file, n):\n",
    "    f = open(file, 'w')\n",
    "    for i in range(n):\n",
    "        number = random.randrange(0,100)\n",
    "        if (i%10) == 9: \n",
    "            f.write(str(number) + '\\n')\n",
    "        else:\n",
    "            f.write(str(number) + ', ')\n",
    "    f.close()\n",
    "\n",
    "def txt_to_array(file):\n",
    "    f = open(file, 'r')\n",
    "    txt_data = f.read()\n",
    "    # [-1] to remove the last empty array cell\n",
    "    result = re.split(', |\\n', txt_data)[:-1]\n",
    "    f.close()\n",
    "    return result\n",
    "\n",
    "def classic_reservoir_sampling(numbers_stream, k):\n",
    "    reservoir = list()\n",
    "    reservoir_max_size = k\n",
    "    index = 0\n",
    "    for number in numbers_stream:\n",
    "        if len(reservoir) >= reservoir_max_size:\n",
    "            chance = random.randrange(0, index - 1)\n",
    "            if chance < reservoir_max_size:\n",
    "                reservoir.pop(chance)\n",
    "                reservoir.append(number)\n",
    "        else:\n",
    "            reservoir.append(number)\n",
    "        index += 1\n",
    "\n",
    "    return reservoir"
   ]
  },
  {
   "cell_type": "code",
   "execution_count": 156,
   "metadata": {},
   "outputs": [
    {
     "output_type": "stream",
     "name": "stdout",
     "text": [
      "['18', '59', '54', '63', '59', '24', '15', '91', '26', '59']\n"
     ]
    }
   ],
   "source": [
    "file_path = 'ask1_data.txt'\n",
    "generate_data(file_path, 1000)\n",
    "numbers_stream = txt_to_array(file_path)\n",
    "result = classic_reservoir_sampling(numbers_stream, 10)\n",
    "print(result)"
   ]
  },
  {
   "source": [
    "# Weighted Reservoir Sampling\n",
    "\n",
    "The algorithm works as follows. First observe that another way to solve the unweighted reservoir sampling is to assign to each element a random id R between 0 and 1 and incrementally (say with a heap) keep track of the top k ids. Now let's look at weighted version, and let's say the i-th element has weight w_i. Then, we modify the algorithm by choosing the id of the i-th element to be R^(1/w_i) where R is again uniformly distributed in (0,1).\n"
   ],
   "cell_type": "markdown",
   "metadata": {}
  },
  {
   "cell_type": "code",
   "execution_count": 162,
   "metadata": {},
   "outputs": [
    {
     "output_type": "stream",
     "name": "stdout",
     "text": [
      "[1, 3, 2, 4, 8, 7, 4]\n5\n"
     ]
    }
   ],
   "source": [
    "file_path = 'weighted_data.txt'\n",
    "# def generate_weighted_data(file, n):\n",
    "#     f = open(file, 'w')\n",
    "#     for i in range(n):\n",
    "#         number = random.randrange(0,100)\n",
    "#         weight = random.uniform(0,1)\n",
    "#         string = str(number) +':'+ str(weight)\n",
    "#         if (i%5) == 4: \n",
    "#             f.write(string + '\\n')\n",
    "#         else:\n",
    "#             f.write(string + ', ')\n",
    "#     f.close()\n",
    "\n",
    "# def weighted_txt_to_array(file):\n",
    "#     f = open(file, 'r')\n",
    "#     txt_data = f.read()\n",
    "#     # [-1] to remove the last empty array cell\n",
    "#     result = re.split(', |\\n', txt_data)[:-1]\n",
    "#     f.close()\n",
    "#     return result\n",
    "\n",
    "\n",
    "# generate_weighted_data(file_path, 100)\n",
    "# weighted_numbers_stream = weighted_txt_to_array(file_path)\n",
    "# print(weighted_numbers_stream)\n",
    "\n",
    "# def weighted_reservoir_data(number_stream):\n",
    "#     heapify(number_stream)\n",
    "#     for number in number_stream:\n",
    "#         r = random.uniform(0,1)\n",
    "#         if \n",
    "import heapq\n",
    "\n",
    "test = [2,3,7,4,8,1,4]\n",
    "heap = list(heapq.heapify(test))\n",
    "k = 5\n",
    "\n",
    "for number in heap:\n",
    "     r = random.uniform(0,1)\n",
    "     if len(heap) < k:\n",
    "         heapq.heappush(heap, number)\n"
   ]
  },
  {
   "cell_type": "code",
   "execution_count": null,
   "metadata": {},
   "outputs": [],
   "source": []
  }
 ]
}