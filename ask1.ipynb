{
 "metadata": {
  "language_info": {
   "codemirror_mode": {
    "name": "ipython",
    "version": 3
   },
   "file_extension": ".py",
   "mimetype": "text/x-python",
   "name": "python",
   "nbconvert_exporter": "python",
   "pygments_lexer": "ipython3",
   "version": "3.8.3-final"
  },
  "orig_nbformat": 2,
  "kernelspec": {
   "name": "python3",
   "display_name": "Python 3"
  }
 },
 "nbformat": 4,
 "nbformat_minor": 2,
 "cells": [
  {
   "source": [
    "# Ερώτηση 1\n",
    "\n",
    "<!--\n",
    "Answers for 1. and 2. [here](https://florian.github.io/reservoir-sampling/#appendix).\n",
    "Answers for 3 [here](https://blog.plover.com/prog/weighted-reservoir-sampling.html#goodpart)\n",
    "-->\n",
    "\n",
    "## Α 1\n",
    "Η βασική αλλαγή που πρέπει να γίνει στον αλγόριθμο Reservoir Sampling  που έιδαμε στο μάθημα προκειμένου να \n",
    "κάνει δειγματοληψία $Κ$ αντικειμένων είναι να αυξήσουμε το μέγεθος των αντικειμένων που κρατάμε στο reservoir  \n",
    "σε $Κ$, και το αρχικοποιόυμε ωστε να περιέχει τα $Κ$ πρώτα αντικείμε της ροής.  \n",
    "\n",
    "Όταν επεξεργαζόμαστε οποιόδήποτε $i-οστό$ στοιχέιο που ακολουθέι μέτα τα $Κ$ πρώτα, δηλαδή  $i>k$, θέλουμε  \n",
    "να το προσθέτουμε στο reservoir $K$ στοιχείων με πιθανότητα $ \\dfrac{K}{i} $ . Στην περίπτωση αυτό επιλεγέι  \n",
    "τότε το προσθέτουμε στο reservoir αντικαθιστόντας κάποιο υπάρχον με πιθανότητα $ \\dfrac{1}{K}$.  \n",
    "\n",
    "Στην συνέχεια θα αποδείξουμε οτι ο παραπάνω αλγόριθμος παράγει ένα ομοιόμορφα τυχαίο δείγμα με επαγωγή.  \n",
    "\n",
    "## Α 2\n",
    "** Βάση επαγωγής: ** H περίπτωση που $n = k$ όπου $n$ είναι ο συνολικός αριθμός των στοιχείων στην ροή  \n",
    "και $k$ είναι το μέγεθος του reservoir, ο αλγόριθμος λέιτουγεί τετριμένα. (Πρόσθέτουμε τα $n$ στοιχεία στο  \n",
    "reservoir).  \n",
    "\n",
    "** Υπόθεση: ** Ο αλγόριθμος επιλέγει κάθε στοιχείο με την ίδια πιθάνοτητα $ \\dfrac{k}{n}$ για $k < n$.  \n",
    "\n",
    "** Επαγωγικό Βήμα: ** Ο αλγόριθμος το $n+1$ στοιχείο της ροής με πιθανότητα $\\dfrac{k}{n+1}$ και όλα τα \n",
    "υπόλοιπα στοιχέια εχουν την πιθανότητα να βρίσκονται στο reservoir με πιθανότητα $\\dfrac{k}{n}$.  \n",
    "\n",
    "Για να αποδειχθεί το παραπάνω πρέπει να υπολογίσουμε τις παρακάτω πιθανότητες για το στοιχείο $n + 1$:  \n",
    "\n",
    "$P(\"Το\\ στοιχέιo\\ ΔΕΝ\\ επιλέγεται\") = P(A) = 1-\\dfrac{k}{n+1} = \\dfrac{n+1−k}{n+1}$  \n",
    "$P(\"Το\\ στοιχέιo\\ επιλέγεται\") = P(B) = \\dfrac{k}{n+1}$      \n",
    "$P(\"Το\\ στοιχέιo\\ δεν\\ μπαινει\\ στο\\ reservoir\") = P(C) = 1-\\dfrac{k}{n} = \\dfrac{k-1}{k}$  \n",
    "\n",
    "Επομένως η πιθανότητα $P(C)$ να επιλεγέι ένα στοιχείο $i$ και να μήν μπει στο reservoir είναι:  \n",
    "\n",
    "$$P(D) = P(B \\bigcap  C) = \\dfrac{k}{n+1} ∗ \\dfrac{k−1}{k} = \\dfrac{k−1}{n+1}$$\n",
    "\n",
    "και η πιθανότητα να μείνει ενα στοιχείο στον reservoir είναι:\n",
    "\n",
    "$$P(E) = P(Α) + P(D) = \\dfrac{n+1−k}{n+1} + \\dfrac{k−1}{n+1} = \\dfrac{n}{n+1}\\ (ανεξάρτητα\\ ενδεχόμενα)$$ \n",
    "\n",
    "Τέλος η πιθανότητα ενα στοιχείνο $n + 1$ να επιλεγέι και να καταλήξει στο reservoir απο την υπόθεση είναι:\n",
    "\n",
    "$$P(E \\bigcap  \"κάποιο\\ προηγούμενο\\ στοιχείο\\ να\\ επιλεγεί\") = \\dfrac{n}{n+1} ∗ \\dfrac{k}{n} = \\dfrac{k}{n+1}$$\n"
   ],
   "cell_type": "markdown",
   "metadata": {}
  },
  {
   "cell_type": "code",
   "execution_count": 82,
   "metadata": {},
   "outputs": [
    {
     "output_type": "stream",
     "name": "stdout",
     "text": [
      "1: ['85', '17', '81', '74', '85']\n2: ['5', '26', '47', '20', '22']\n3: ['80', '11', '13', '20', '23']\n4: ['39', '12', '77', '92', '52']\n5: ['6', '70', '9', '64', '93']\n6: ['34', '34', '80', '76', '35']\n7: ['81', '54', '98', '56', '60']\n8: ['26', '63', '19', '91', '5']\n9: ['36', '14', '25', '21', '69']\n10: ['83', '40', '8', '17', '44']\n"
     ]
    }
   ],
   "source": [
    "import random\n",
    "import re\n",
    "import heapq\n",
    "\n",
    "# Generating data functions\n",
    "def generate_data(file, n):\n",
    "    f = open(file, 'w')\n",
    "    for i in range(n):\n",
    "        number = random.randrange(0,100)\n",
    "        if (i%10) == 9: \n",
    "            f.write(str(number) + '\\n')\n",
    "        else:\n",
    "            f.write(str(number) + ', ')\n",
    "    f.close()\n",
    "\n",
    "def txt_to_array(file):\n",
    "    f = open(file, 'r')\n",
    "    txt_data = f.read()\n",
    "    # [-1] to remove the last empty array cell\n",
    "    result = re.split(', |\\n', txt_data)[:-1]\n",
    "    f.close()\n",
    "    return result\n",
    "\n",
    "# Two reservoir sampling implementations\n",
    "def classic_reservoir_sampling(numbers_stream, k):\n",
    "    reservoir = list()\n",
    "    for i, number in enumerate(numbers_stream):\n",
    "        if i < k:\n",
    "            reservoir.append(number)\n",
    "        else: \n",
    "            random_index = random.randint(0, i)\n",
    "            if random_index < k:\n",
    "                reservoir[random_index] = number\n",
    "    return reservoir\n",
    "\n",
    "def reservoir_sampling_oneliner(stream: list, k: int):\n",
    "    return heapq.nlargest(k, stream, key=lambda x: random.random())\n",
    "\n",
    "# Init\n",
    "file_path = 'ask1_data.txt'\n",
    "generate_data(file_path, 1000)\n",
    "numbers_stream = txt_to_array(file_path)\n",
    "\n",
    "for i in range(1, 11):\n",
    "    result = classic_reservoir_sampling(numbers_stream, 5)\n",
    "    print(\"%d: %s\" % (i, result))\n"
   ]
  },
  {
   "source": [
    "# Weighted Reservoir Sampling\n",
    "\n",
    "The algorithm works as follows. First observe that another way to solve the unweighted reservoir sampling is to assign to each element a random id R between 0 and 1 and incrementally (say with a heap) keep track of the top k ids. Now let's look at weighted version, and let's say the i-th element has weight w_i. Then, we modify the algorithm by choosing the id of the i-th element to be R^(1/w_i) where R is again uniformly distributed in (0,1).\n"
   ],
   "cell_type": "markdown",
   "metadata": {}
  },
  {
   "cell_type": "code",
   "execution_count": 108,
   "metadata": {
    "tags": []
   },
   "outputs": [
    {
     "output_type": "stream",
     "name": "stdout",
     "text": [
      "1: [(0.9956806500200418, '61'), (0.9979684446002092, '37'), (0.9973349780929943, '12')]\n2: [(0.9943896612141792, '60'), (0.99792166704945, '73'), (0.9983649041726742, '87')]\n3: [(0.9974783848399961, '44'), (0.9986991052214076, '51'), (0.9974902297990649, '49')]\n4: [(0.9960438864181268, '59'), (0.9986439914430465, '32'), (0.9968729165432824, '61')]\n5: [(0.9972509310831236, '32'), (0.9978174453652138, '51'), (0.9979792263704212, '27')]\n6: [(0.9974584624350875, '2'), (0.9990830196249656, '65'), (0.9990480056628716, '2')]\n7: [(0.9924428834136622, '65'), (0.9952994421355145, '81'), (0.9952356661167634, '66')]\n8: [(0.9962031984926526, '53'), (0.9970551360444598, '58'), (0.9994540633977201, '83')]\n9: [(0.9976479085655983, '30'), (0.9977100817162262, '95'), (0.9983901959805804, '71')]\n10: [(0.9975967631749559, '40'), (0.9987584203526247, '81'), (0.9984206974473042, '26')]\n"
     ]
    }
   ],
   "source": [
    "file_path = 'weighted_data.txt'\n",
    "\n",
    "def weighted_reservoir_sampling(numbers_stream, k):\n",
    "    reservoir = list()\n",
    "    for i, number in enumerate(numbers_stream):\n",
    "        if i < k:\n",
    "            w = random.uniform(0,1)\n",
    "            reservoir.append((w, number))\n",
    "        else:\n",
    "            heapq.heapify(reservoir)\n",
    "            threshold = heapq.nsmallest(1, reservoir)\n",
    "            # TODO: change weight\n",
    "            w = random.uniform(0,1)\n",
    "            if w > threshold[0][0]:\n",
    "                heapq.heapreplace(reservoir, (w, number))\n",
    "    return reservoir\n",
    "\n",
    "for i in range(1, 11):\n",
    "    result = weighted_reservoir_sampling(numbers_stream, 3)\n",
    "    print(\"%d: %s\" % (i, result))\n"
   ]
  },
  {
   "cell_type": "code",
   "execution_count": null,
   "metadata": {},
   "outputs": [],
   "source": []
  }
 ]
}