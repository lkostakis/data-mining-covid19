{
 "metadata": {
  "language_info": {
   "codemirror_mode": {
    "name": "ipython",
    "version": 3
   },
   "file_extension": ".py",
   "mimetype": "text/x-python",
   "name": "python",
   "nbconvert_exporter": "python",
   "pygments_lexer": "ipython3",
   "version": "3.8.3-final"
  },
  "orig_nbformat": 2,
  "kernelspec": {
   "name": "python3",
   "display_name": "Python 3"
  }
 },
 "nbformat": 4,
 "nbformat_minor": 2,
 "cells": [
  {
   "source": [
    "# Ερώτηση 1\n",
    "\n",
    "<!--\n",
    "Answers for 1. and 2. [here](https://florian.github.io/reservoir-sampling/#appendix).\n",
    "Answers for 3 [here](https://blog.plover.com/prog/weighted-reservoir-sampling.html#goodpart)\n",
    "-->\n",
    "\n",
    "## Α 1\n",
    "Η βασική αλλαγή που πρέπει να γίνει στον αλγόριθμο Reservoir Sampling  που έιδαμε στο μάθημα προκειμένου να \n",
    "κάνει δειγματοληψία $Κ$ αντικειμένων είναι να αυξήσουμε το μέγεθος των αντικειμένων που κρατάμε στο reservoir  \n",
    "σε $Κ$, και το αρχικοποιόυμε ωστε να περιέχει τα $Κ$ πρώτα αντικείμε της ροής.  \n",
    "\n",
    "Όταν επεξεργαζόμαστε οποιόδήποτε $i-οστό$ στοιχέιο που ακολουθέι μέτα τα $Κ$ πρώτα, δηλαδή  $i>k$, θέλουμε  \n",
    "να το προσθέτουμε στο reservoir $K$ στοιχείων με πιθανότητα $ \\dfrac{K}{i} $ . Στην περίπτωση αυτό επιλεγέι  \n",
    "τότε το προσθέτουμε στο reservoir αντικαθιστόντας κάποιο υπάρχον με πιθανότητα $ \\dfrac{1}{K}$.  \n",
    "\n",
    "Στην συνέχεια θα αποδείξουμε οτι ο παραπάνω αλγόριθμος παράγει ένα ομοιόμορφα τυχαίο δείγμα με επαγωγή.  \n",
    "\n",
    "## Α 2.\n",
    "** Βάση επαγωγής: ** H περίπτωση που $n = k$ όπου $n$ είναι ο συνολικός αριθμός των στοιχείων στην ροή  \n",
    "και $k$ είναι το μέγεθος του reservoir, ο αλγόριθμος λέιτουγεί τετριμένα. (Πρόσθέτουμε τα $n$ στοιχεία στο  \n",
    "reservoir).  \n",
    "\n",
    "** Υπόθεση: ** Ο αλγόριθμος επιλέγει κάθε στοιχείο με την ίδια πιθάνοτητα $ \\dfrac{k}{n}$ για $k < n$.  \n",
    "\n",
    "** Επαγωγικό Βήμα: ** Ο αλγόριθμος το $n+1$ στοιχείο της ροής με πιθανότητα $\\dfrac{k}{n+1}$ και όλα τα \n",
    "υπόλοιπα στοιχέια εχουν την πιθανότητα να βρίσκονται στο reservoir με πιθανότητα $\\dfrac{k}{n}$.  \n",
    "\n",
    "Για να αποδειχθεί το παραπάνω πρέπει να υπολογίσουμε τις παρακάτω πιθανότητες για το στοιχείο $n + 1$:  \n",
    "\n",
    "$P(\"Το\\ στοιχέιo\\ ΔΕΝ\\ επιλέγεται\") = P(A) = 1-\\dfrac{k}{n+1} = \\dfrac{n+1−k}{n+1}$  \n",
    "$P(\"Το\\ στοιχέιo\\ επιλέγεται\") = P(B) = \\dfrac{k}{n+1}$      \n",
    "$P(\"Το\\ στοιχέιo\\ δεν\\ μπαινει\\ στο\\ reservoir\") = P(C) = 1-\\dfrac{k}{n} = \\dfrac{k-1}{k}$  \n",
    "\n",
    "Επομένως η πιθανότητα $P(C)$ να επιλεγέι ένα στοιχείο $i$ και να μήν μπει στο reservoir είναι:  \n",
    "\n",
    "$$P(D) = P(B \\bigcap  C) = \\dfrac{k}{n+1} ∗ \\dfrac{k−1}{k} = \\dfrac{k−1}{n+1}$$\n",
    "\n",
    "και η πιθανότητα να μείνει ενα στοιχείο στον reservoir είναι:\n",
    "\n",
    "$$P(E) = P(Α) + P(D) = \\dfrac{n+1−k}{n+1} + \\dfrac{k−1}{n+1} = \\dfrac{n}{n+1}\\ (ανεξάρτητα\\ ενδεχόμενα)$$ \n",
    "\n",
    "Τέλος η πιθανότητα ενα στοιχείνο $n + 1$ να επιλεγέι και να καταλήξει στο reservoir απο την υπόθεση είναι:\n",
    "\n",
    "$$P(E \\bigcap  \"κάποιο\\ προηγούμενο\\ στοιχείο\\ να\\ επιλεγεί\") = \\dfrac{n}{n+1} ∗ \\dfrac{k}{n} = \\dfrac{k}{n+1}$$\n"
   ],
   "cell_type": "markdown",
   "metadata": {}
  },
  {
   "cell_type": "code",
   "execution_count": 13,
   "metadata": {},
   "outputs": [
    {
     "output_type": "stream",
     "name": "stdout",
     "text": [
      "1: ['9', '72', '60', '27', '71']\n2: ['94', '7', '19', '81', '33']\n3: ['65', '18', '67', '3', '64']\n4: ['26', '66', '70', '81', '27']\n5: ['86', '36', '38', '71', '76']\n6: ['67', '21', '83', '86', '86']\n7: ['88', '53', '12', '87', '26']\n8: ['15', '80', '30', '90', '43']\n9: ['46', '15', '44', '33', '96']\n10: ['24', '6', '35', '78', '87']\n"
     ]
    }
   ],
   "source": [
    "import random\n",
    "import re\n",
    "import heapq\n",
    "\n",
    "# Generating data functions\n",
    "def generate_data(file, n):\n",
    "    f = open(file, 'w')\n",
    "    for i in range(n):\n",
    "        number = random.randrange(0,100)\n",
    "        if (i%10) == 9: \n",
    "            f.write(str(number) + '\\n')\n",
    "        else:\n",
    "            f.write(str(number) + ', ')\n",
    "    f.close()\n",
    "\n",
    "def txt_to_array(file):\n",
    "    f = open(file, 'r')\n",
    "    txt_data = f.read()\n",
    "    # [-1] to remove the last empty array cell\n",
    "    result = re.split(', |\\n', txt_data)[:-1]\n",
    "    f.close()\n",
    "    return result\n",
    "\n",
    "# Two reservoir sampling implementations\n",
    "def classic_reservoir_sampling(numbers_stream, k):\n",
    "    reservoir = list()\n",
    "    for i, number in enumerate(numbers_stream):\n",
    "        if i < k:\n",
    "            reservoir.append(number)\n",
    "        else: \n",
    "            random_index = random.randint(0, i)\n",
    "            if random_index < k:\n",
    "                reservoir[random_index] = number\n",
    "    return reservoir\n",
    "\n",
    "def reservoir_sampling_oneliner(stream: list, k: int):\n",
    "    return heapq.nlargest(k, stream, key=lambda x: random.random())\n",
    "\n",
    "file_path = 'ask1_data.txt'\n",
    "generate_data(file_path, 1000)\n",
    "numbers_stream = txt_to_array(file_path)\n",
    "\n",
    "for i in range(1, 11):\n",
    "    result = classic_reservoir_sampling(numbers_stream, 5)\n",
    "    print(\"%d: %s\" % (i, result))\n"
   ]
  },
  {
   "source": [
    "# Weighted Reservoir Sampling\n",
    "\n",
    "The algorithm works as follows. First observe that another way to solve the unweighted reservoir sampling is to assign to each element a random id R between 0 and 1 and incrementally (say with a heap) keep track of the top k ids. Now let's look at weighted version, and let's say the i-th element has weight w_i. Then, we modify the algorithm by choosing the id of the i-th element to be R^(1/w_i) where R is again uniformly distributed in (0,1).\n"
   ],
   "cell_type": "markdown",
   "metadata": {}
  },
  {
   "cell_type": "code",
   "execution_count": 3,
   "metadata": {},
   "outputs": [
    {
     "output_type": "error",
     "ename": "SyntaxError",
     "evalue": "invalid syntax (<ipython-input-3-5da6734113d2>, line 43)",
     "traceback": [
      "\u001b[1;36m  File \u001b[1;32m\"<ipython-input-3-5da6734113d2>\"\u001b[1;36m, line \u001b[1;32m43\u001b[0m\n\u001b[1;33m    if r >\u001b[0m\n\u001b[1;37m           ^\u001b[0m\n\u001b[1;31mSyntaxError\u001b[0m\u001b[1;31m:\u001b[0m invalid syntax\n"
     ]
    }
   ],
   "source": [
    "file_path = 'weighted_data.txt'\n",
    "# def generate_weighted_data(file, n):\n",
    "#     f = open(file, 'w')\n",
    "#     for i in range(n):\n",
    "#         number = random.randrange(0,100)\n",
    "#         weight = random.uniform(0,1)\n",
    "#         string = str(number) +':'+ str(weight)\n",
    "#         if (i%5) == 4: \n",
    "#             f.write(string + '\\n')\n",
    "#         else:\n",
    "#             f.write(string + ', ')\n",
    "#     f.close()\n",
    "\n",
    "# def weighted_txt_to_array(file):\n",
    "#     f = open(file, 'r')\n",
    "#     txt_data = f.read()\n",
    "#     # [-1] to remove the last empty array cell\n",
    "#     result = re.split(', |\\n', txt_data)[:-1]\n",
    "#     f.close()\n",
    "#     return result\n",
    "\n",
    "\n",
    "# generate_weighted_data(file_path, 100)\n",
    "# weighted_numbers_stream = weighted_txt_to_array(file_path)\n",
    "# print(weighted_numbers_stream)\n",
    "\n",
    "# def weighted_reservoir_data(number_stream):\n",
    "#     heapify(number_stream)\n",
    "#     for number in number_stream:\n",
    "#         r = random.uniform(0,1)\n",
    "#         if \n",
    "# import heapq\n",
    "\n",
    "# test = [2,3,7,4,8,1,4]\n",
    "# heap = list(heapq.heapify(test))\n",
    "# k = 5\n",
    "\n",
    "for number in heap:\n",
    "    r = random.uniform(0,1)\n",
    "    if len(heap) < k:\n",
    "        heapq.heappush(heap, number)\n",
    "    else:\n",
    "        if r > \n"
   ]
  },
  {
   "cell_type": "code",
   "execution_count": null,
   "metadata": {},
   "outputs": [],
   "source": []
  }
 ]
}