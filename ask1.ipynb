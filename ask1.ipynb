{
 "metadata": {
  "language_info": {
   "codemirror_mode": {
    "name": "ipython",
    "version": 3
   },
   "file_extension": ".py",
   "mimetype": "text/x-python",
   "name": "python",
   "nbconvert_exporter": "python",
   "pygments_lexer": "ipython3",
   "version": "3.8.3-final"
  },
  "orig_nbformat": 2,
  "kernelspec": {
   "name": "python3",
   "display_name": "Python 3"
  }
 },
 "nbformat": 4,
 "nbformat_minor": 2,
 "cells": [
  {
   "source": [
    "# Ερώτηση 1\n",
    "#### Πούλος Βασίλης, 2805.\n",
    "#### Κωστάκης Ελευθέριος-Παναγιώτης, 2741.\n",
    "\n",
    "## Ερώτηση 1\n",
    "### Α 1\n",
    "Η βασική αλλαγή που πρέπει να γίνει στον αλγόριθμο Reservoir Sampling  που έιδαμε στο μάθημα προκειμένου να \n",
    "κάνει δειγματοληψία $Κ$ αντικειμένων είναι να αυξήσουμε το μέγεθος των αντικειμένων που κρατάμε στο reservoir  \n",
    "σε $Κ$, και το αρχικοποιόυμε ωστε να περιέχει τα $Κ$ πρώτα αντικείμε της ροής.  \n",
    "\n",
    "Όταν επεξεργαζόμαστε οποιόδήποτε $i-οστό$ στοιχέιο που ακολουθέι μέτα τα $Κ$ πρώτα, δηλαδή  $i>k$, θέλουμε  \n",
    "να το προσθέτουμε στο reservoir $K$ στοιχείων με πιθανότητα $ \\dfrac{K}{i} $ . Στην περίπτωση αυτό επιλεγέι  \n",
    "τότε το προσθέτουμε στο reservoir αντικαθιστόντας κάποιο υπάρχον με πιθανότητα $ \\dfrac{1}{K}$.  \n",
    "\n",
    "Στην συνέχεια θα αποδείξουμε οτι ο παραπάνω αλγόριθμος παράγει ένα ομοιόμορφα τυχαίο δείγμα με επαγωγή.  \n",
    "\n",
    "### Α 2\n",
    "** Βάση επαγωγής: ** H περίπτωση που $n = k$ όπου $n$ είναι ο συνολικός αριθμός των στοιχείων στην ροή  \n",
    "και $k$ είναι το μέγεθος του reservoir, ο αλγόριθμος λέιτουγεί τετριμένα. (Πρόσθέτουμε τα $n$ στοιχεία στο  \n",
    "reservoir).  \n",
    "\n",
    "** Υπόθεση: ** Ο αλγόριθμος επιλέγει κάθε στοιχείο με την ίδια πιθάνοτητα $ \\dfrac{k}{n}$ για $k < n$.  \n",
    "\n",
    "** Επαγωγικό Βήμα: ** Ο αλγόριθμος το $n+1$ στοιχείο της ροής με πιθανότητα $\\dfrac{k}{n+1}$ και όλα τα \n",
    "υπόλοιπα στοιχέια εχουν την πιθανότητα να βρίσκονται στο reservoir με πιθανότητα $\\dfrac{k}{n}$.  \n",
    "\n",
    "Για να αποδειχθεί το παραπάνω πρέπει να υπολογίσουμε τις παρακάτω πιθανότητες για το στοιχείο $n + 1$:  \n",
    "\n",
    "$P(\"Το\\ στοιχέιo\\ ΔΕΝ\\ επιλέγεται\") = P(A) = 1-\\dfrac{k}{n+1} = \\dfrac{n+1−k}{n+1}$  \n",
    "$P(\"Το\\ στοιχέιo\\ επιλέγεται\") = P(B) = \\dfrac{k}{n+1}$      \n",
    "$P(\"Το\\ στοιχέιo\\ δεν\\ μπαινει\\ στο\\ reservoir\") = P(C) = 1-\\dfrac{k}{n} = \\dfrac{k-1}{k}$  \n",
    "\n",
    "Επομένως η πιθανότητα $P(C)$ να επιλεγέι ένα στοιχείο $i$ και να μήν μπει στο reservoir είναι:  \n",
    "\n",
    "$$P(D) = P(B \\bigcap  C) = \\dfrac{k}{n+1} ∗ \\dfrac{k−1}{k} = \\dfrac{k−1}{n+1}$$\n",
    "\n",
    "και η πιθανότητα να μείνει ενα στοιχείο στον reservoir είναι:\n",
    "\n",
    "$$P(E) = P(Α) + P(D) = \\dfrac{n+1−k}{n+1} + \\dfrac{k−1}{n+1} = \\dfrac{n}{n+1}\\ (ανεξάρτητα\\ ενδεχόμενα)$$ \n",
    "\n",
    "Τέλος η πιθανότητα ενα στοιχείνο $n + 1$ να επιλεγέι και να καταλήξει στο reservoir απο την υπόθεση είναι:\n",
    "\n",
    "$$P(E \\bigcap  \"κάποιο\\ προηγούμενο\\ στοιχείο\\ να\\ επιλεγεί\") = \\dfrac{n}{n+1} ∗ \\dfrac{k}{n} = \\dfrac{k}{n+1}$$\n"
   ],
   "cell_type": "markdown",
   "metadata": {}
  },
  {
   "cell_type": "code",
   "execution_count": 34,
   "metadata": {},
   "outputs": [
    {
     "output_type": "stream",
     "name": "stdout",
     "text": [
      "1: ['53', '80', '68', '2', '43']\n2: ['1', '29', '19', '61', '53']\n3: ['62', '59', '53', '12', '33']\n4: ['2', '36', '71', '92', '45']\n5: ['43', '58', '11', '57', '62']\n6: ['19', '45', '43', '36', '52']\n7: ['67', '86', '94', '24', '59']\n8: ['52', '95', '77', '85', '36']\n9: ['68', '81', '31', '20', '82']\n10: ['95', '82', '29', '9', '58']\n"
     ]
    }
   ],
   "source": [
    "import random\n",
    "import re\n",
    "import heapq\n",
    "\n",
    "# Generating data functions\n",
    "def generate_data(file, number_of_data):\n",
    "    f = open(file, 'w')\n",
    "    for i in range(number_of_data):\n",
    "        number = random.randrange(0,100)\n",
    "        if (i%10) == 9: \n",
    "            f.write(str(number) + '\\n')\n",
    "        else:\n",
    "            f.write(str(number) + ', ')\n",
    "    f.close()\n",
    "\n",
    "def txt_to_array(file):\n",
    "    f = open(file, 'r')\n",
    "    txt_data = f.read()\n",
    "    # [-1] to remove the last empty array cell\n",
    "    result = re.split(', |\\n', txt_data)[:-1]\n",
    "    f.close()\n",
    "    return result\n",
    "\n",
    "# Two reservoir sampling implementations\n",
    "def classic_reservoir_sampling(numbers_stream, k):\n",
    "    reservoir = list()\n",
    "    for i, number in enumerate(numbers_stream):\n",
    "        if i < k:\n",
    "            reservoir.append(number)\n",
    "        else: \n",
    "            random_index = random.randint(0, i)\n",
    "            if random_index < k:\n",
    "                reservoir[random_index] = number\n",
    "    return reservoir\n",
    "\n",
    "def reservoir_sampling_oneliner(stream: list, k: int):\n",
    "    return heapq.nlargest(k, stream, key=lambda x: random.random())\n",
    "\n",
    "# Init\n",
    "file_path = 'ask1_data.txt'\n",
    "generate_data(file_path, 1000)\n",
    "numbers_stream = txt_to_array(file_path)\n",
    "\n",
    "for i in range(1, 11):\n",
    "    result = classic_reservoir_sampling(numbers_stream, 5)\n",
    "    print(\"%d: %s\" % (i, result))\n"
   ]
  },
  {
   "source": [
    "## Ερώτημα Β\n",
    "### Weighted Reservoir Sampling\n",
    "\n",
    "Ο παρακάτω αλγόριθμος ειναι ο τροποποιημένος Reservoir Sampling όπως ζητήθηκε στην εκφώνηση\n",
    "δηλαδή για ρεύμα αρχικά άγνωστου μεγέθους Ν, καθε αντικείμενο 𝑖 έχει τελική πιθανότητα $\\dfrac{𝑤_𝑖}{𝑊}$ \n",
    "να επιλεγεί και το συνολικό βάρος τους είναι $ W = \\sum_{i=1}^{N} w_i$ για κάθε $1 \\leq 𝑖 \\leq 𝑁$.   \n"
   ],
   "cell_type": "markdown",
   "metadata": {}
  },
  {
   "cell_type": "code",
   "execution_count": 69,
   "metadata": {
    "tags": []
   },
   "outputs": [],
   "source": [
    "# Generating weigthed data functions.\n",
    "\n",
    "def generate_weighted_data(file, number_of_data):\n",
    "    f = open(file, 'w')\n",
    "    for i in range(number_of_data):\n",
    "        number = random.randrange(0,100)\n",
    "        weight = random.uniform(0,1)\n",
    "        string = str(number) +','+ str(weight)\n",
    "        if (i%5) == 4: \n",
    "            f.write(string + '\\n')\n",
    "        else:\n",
    "            f.write(string + '> ')\n",
    "    f.close()\n",
    "\n",
    "\n",
    "def weighted_txt_to_array(file):\n",
    "    f = open(file, 'r')\n",
    "    final = list()\n",
    "    txt_data = f.read()\n",
    "    # [-1] to remove the last empty array cell\n",
    "    result = re.split('> |\\n', txt_data)[:-1]\n",
    "    for item in result:\n",
    "        parts = item.split(',')\n",
    "        final.append((int(parts[0]), float(parts[1])))\n",
    "\n",
    "    f.close()\n",
    "    return final\n"
   ]
  },
  {
   "cell_type": "code",
   "execution_count": 109,
   "metadata": {
    "tags": []
   },
   "outputs": [
    {
     "output_type": "stream",
     "name": "stdout",
     "text": [
      "1: 84\n2: 47\n3: 97\n4: 58\n5: 2\n"
     ]
    }
   ],
   "source": [
    "# Generating data\n",
    "file_path = 'weighted_data.txt'\n",
    "generate_weighted_data(file_path, 1000)\n",
    "weighted_numbers_stream = weighted_txt_to_array(file_path)\n",
    "\n",
    "def weighted_reservoir_sampling(numbers_stream):    \n",
    "    total_weight = 0\n",
    "    reservoir = None\n",
    "    for number, weight in numbers_stream:\n",
    "        total_weight += weight\n",
    "        if random.uniform(0, 1) < weight/total_weight:\n",
    "            reservoir = number\n",
    "    return reservoir\n",
    "\n",
    "# Results\n",
    "for i in range(1, 6):\n",
    "    result = weighted_reservoir_sampling(weighted_numbers_stream)\n",
    "    print(\"%d: %s\" % (i, result))"
   ]
  },
  {
   "source": [
    "### Απόδειξη\n",
    "\n",
    "** Βάση επαγωγής: ** Για ένα στοιχείο ισχύει ότι $\\dfrac{w_1}{w_1}$, επομένως το επιλέγω με πιθανότητα 1. (Τετριμένο)  \n",
    "\n",
    "** Υπόθεση: **  Έστω οτι για κάθε στοιχείο $i$ ισχύει ότι το επιλέγουμε με πιθανότητα $\\dfrac{w_i}{W}$ \n",
    "όπου $ W = \\sum_{i=1}^{N} w_i$.  \n",
    "\n",
    "** Επαγωγικό Βήμα: ** Για το στοιχείο $n+1$ ισχύει απο την υπόθεση ότι:  \n",
    "\n",
    " $P(\"Πιθανότητα\\ n+1\\ να\\ επιλεγει\") = \\dfrac{w_n}{w_1+w_2+\\dotsb+w_{n+1}}$   \n",
    "\n",
    "Για να μείνει το στοιχείο $n+1$ στο reservoir πρεπει να επιλεγεί και να μήν αντικατασταθεί απο το $n+2$.\n",
    "\n",
    " $P(\"Πιθανότητα\\ n+2\\ να\\ MHN\\ επιλεγει\") = 1 - \\dfrac{w_{n+2}}{w_1+w_2+\\dotsb+w_{n+2}} = \\dfrac{ (w_1+w_2+\\dotsb+w_{n+1}) + w_{n+2} - w_{n+2} }{w_1+w_2+\\dotsb+w_{n+2}}$   \n",
    "\n",
    " Επομένως η πιθανότητα να μέινει το στοιχείο στο reservoir είναι:\n",
    "\n",
    " $$\\dfrac{w_n}{w_1+w_2+\\dotsb+w_{n+1}} * \\dfrac{ (w_1+w_2+\\dotsb+w_{n+1}) + w_{n+2} - w_{n+2} }{w_1+w_2+\\dotsb+w_{n+2}} = \\dfrac{w_n}{w_1+w_2+\\dotsb+w_{n+2}}$$   "
   ],
   "cell_type": "markdown",
   "metadata": {}
  }
 ]
}