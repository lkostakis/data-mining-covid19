{
 "metadata": {
  "language_info": {
   "codemirror_mode": {
    "name": "ipython",
    "version": 3
   },
   "file_extension": ".py",
   "mimetype": "text/x-python",
   "name": "python",
   "nbconvert_exporter": "python",
   "pygments_lexer": "ipython3",
   "version": "3.8.3-final"
  },
  "orig_nbformat": 2,
  "kernelspec": {
   "name": "python3",
   "display_name": "Python 3"
  }
 },
 "nbformat": 4,
 "nbformat_minor": 2,
 "cells": [
  {
   "source": [
    "# Question 1\n",
    "Answers for 1. and 2. [here](https://florian.github.io/reservoir-sampling/#appendix).\n",
    "Answers for 3 [here](https://blog.plover.com/prog/weighted-reservoir-sampling.html#goodpart)\n",
    "\n",
    "TODO: write the answers formally.\n"
   ],
   "cell_type": "code",
   "metadata": {},
   "execution_count": null,
   "outputs": []
  },
  {
   "cell_type": "code",
   "execution_count": 69,
   "metadata": {},
   "outputs": [
    {
     "output_type": "stream",
     "name": "stdout",
     "text": [
      "Following are k randomly selected items\n1 12 3 4 6 \n"
     ]
    }
   ],
   "source": [
    "# An efficient Python3 program  \n",
    "# to randomly select k items \n",
    "# from a stream of items \n",
    "import random \n",
    "# A utility function  \n",
    "# to print an array \n",
    "def printArray(stream,n): \n",
    "    for i in range(n): \n",
    "        print(stream[i],end=\" \"); \n",
    "    print(); \n",
    "  \n",
    "# A function to randomly select \n",
    "# k items from stream[0..n-1]. \n",
    "def selectKItems(stream, n, k): \n",
    "        i=0;  \n",
    "        # index for elements \n",
    "        # in stream[] \n",
    "          \n",
    "        # reservoir[] is the output  \n",
    "        # array. Initialize it with \n",
    "        # first k elements from stream[] \n",
    "        reservoir = [0]*k; \n",
    "        for i in range(k): \n",
    "            reservoir[i] = stream[i]; \n",
    "          \n",
    "        # Iterate from the (k+1)th \n",
    "        # element to nth element \n",
    "        while(i < n): \n",
    "            # Pick a random index \n",
    "            # from 0 to i. \n",
    "            j = random.randrange(i+1); \n",
    "              \n",
    "            # If the randomly picked \n",
    "            # index is smaller than k, \n",
    "            # then replace the element \n",
    "            # present at the index \n",
    "            # with new element from stream \n",
    "            if(j < k): \n",
    "                reservoir[j] = stream[i]; \n",
    "            i+=1; \n",
    "          \n",
    "        print(\"Following are k randomly selected items\"); \n",
    "        printArray(reservoir, k); \n",
    "      \n",
    "# Driver Code \n",
    "  \n",
    "if __name__ == \"__main__\": \n",
    "    stream = [1, 2, 3, 4, 5, 6, 7, 8, 9, 10, 11, 12]; \n",
    "    n = len(stream); \n",
    "    k = 5; \n",
    "    selectKItems(stream, n, k); \n",
    "  \n",
    "# This code is contributed by mits"
   ]
  },
  {
   "cell_type": "code",
   "execution_count": 70,
   "metadata": {},
   "outputs": [],
   "source": [
    "import random\n",
    "import re\n",
    "\n",
    "def generate_data(file, n):\n",
    "    f = open(file, 'w')\n",
    "    for i in range(n):\n",
    "        number = random.randrange(0,100)\n",
    "        if (i%10) == 9: \n",
    "            f.write(str(number) + '\\n')\n",
    "        else:\n",
    "            f.write(str(number) + ', ')\n",
    "    f.close()\n",
    "\n",
    "def txt_to_array(file):\n",
    "    f = open(file, 'r')\n",
    "    txt_data = f.read()\n",
    "    # [-1] to remove the last empty array cell\n",
    "    result = re.split(', |\\n', txt_data)[:-1]\n",
    "    f.close()\n",
    "    return result"
   ]
  },
  {
   "cell_type": "code",
   "execution_count": 79,
   "metadata": {},
   "outputs": [
    {
     "output_type": "stream",
     "name": "stdout",
     "text": [
      "Following are k randomly selected items\n24 84 65 51 53 \n"
     ]
    }
   ],
   "source": [
    "file_path = 'ask1_data.txt'\n",
    "generate_data(file_path, 1000)\n",
    "numbers_stream = txt_to_array(file_path)\n",
    "selectKItems(numbers_array, len(numbers_stream), 5)"
   ]
  },
  {
   "cell_type": "code",
   "execution_count": null,
   "metadata": {},
   "outputs": [],
   "source": []
  }
 ]
}