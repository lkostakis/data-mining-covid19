{
 "metadata": {
  "language_info": {
   "codemirror_mode": {
    "name": "ipython",
    "version": 3
   },
   "file_extension": ".py",
   "mimetype": "text/x-python",
   "name": "python",
   "nbconvert_exporter": "python",
   "pygments_lexer": "ipython3",
   "version": "3.8.3-final"
  },
  "orig_nbformat": 2,
  "kernelspec": {
   "name": "python3",
   "display_name": "Python 3"
  }
 },
 "nbformat": 4,
 "nbformat_minor": 2,
 "cells": [
  {
   "source": [
    "# Ερώτηση 1\n",
    "\n",
    "<!--\n",
    "Answers for 1. and 2. [here](https://florian.github.io/reservoir-sampling/#appendix).\n",
    "Answers for 3 [here](https://blog.plover.com/prog/weighted-reservoir-sampling.html#goodpart)\n",
    "-->\n",
    "\n",
    "## Α 1\n",
    "Η βασική αλλαγή που πρέπει να γίνει στον αλγόριθμο Reservoir Sampling  που έιδαμε στο μάθημα προκειμένου να \n",
    "κάνει δειγματοληψία $Κ$ αντικειμένων είναι να αυξήσουμε το μέγεθος των αντικειμένων που κρατάμε στο reservoir  \n",
    "σε $Κ$, και το αρχικοποιόυμε ωστε να περιέχει τα $Κ$ πρώτα αντικείμε της ροής.  \n",
    "\n",
    "Όταν επεξεργαζόμαστε οποιόδήποτε $i-οστό$ στοιχέιο που ακολουθέι μέτα τα $Κ$ πρώτα, δηλαδή  $i>k$, θέλουμε  \n",
    "να το προσθέτουμε στο reservoir $K$ στοιχείων με πιθανότητα $ \\dfrac{K}{i} $ . Στην περίπτωση αυτό επιλεγέι  \n",
    "τότε το προσθέτουμε στο reservoir αντικαθιστόντας κάποιο υπάρχον με πιθανότητα $ \\dfrac{1}{K}$.  \n",
    "\n",
    "Στην συνέχεια θα αποδείξουμε οτι ο παραπάνω αλγόριθμος παράγει ένα ομοιόμορφα τυχαίο δείγμα με επαγωγή.  \n",
    "\n",
    "## Α 2\n",
    "** Βάση επαγωγής: ** H περίπτωση που $n = k$ όπου $n$ είναι ο συνολικός αριθμός των στοιχείων στην ροή  \n",
    "και $k$ είναι το μέγεθος του reservoir, ο αλγόριθμος λέιτουγεί τετριμένα. (Πρόσθέτουμε τα $n$ στοιχεία στο  \n",
    "reservoir).  \n",
    "\n",
    "** Υπόθεση: ** Ο αλγόριθμος επιλέγει κάθε στοιχείο με την ίδια πιθάνοτητα $ \\dfrac{k}{n}$ για $k < n$.  \n",
    "\n",
    "** Επαγωγικό Βήμα: ** Ο αλγόριθμος το $n+1$ στοιχείο της ροής με πιθανότητα $\\dfrac{k}{n+1}$ και όλα τα \n",
    "υπόλοιπα στοιχέια εχουν την πιθανότητα να βρίσκονται στο reservoir με πιθανότητα $\\dfrac{k}{n}$.  \n",
    "\n",
    "Για να αποδειχθεί το παραπάνω πρέπει να υπολογίσουμε τις παρακάτω πιθανότητες για το στοιχείο $n + 1$:  \n",
    "\n",
    "$P(\"Το\\ στοιχέιo\\ ΔΕΝ\\ επιλέγεται\") = P(A) = 1-\\dfrac{k}{n+1} = \\dfrac{n+1−k}{n+1}$  \n",
    "$P(\"Το\\ στοιχέιo\\ επιλέγεται\") = P(B) = \\dfrac{k}{n+1}$      \n",
    "$P(\"Το\\ στοιχέιo\\ δεν\\ μπαινει\\ στο\\ reservoir\") = P(C) = 1-\\dfrac{k}{n} = \\dfrac{k-1}{k}$  \n",
    "\n",
    "Επομένως η πιθανότητα $P(C)$ να επιλεγέι ένα στοιχείο $i$ και να μήν μπει στο reservoir είναι:  \n",
    "\n",
    "$$P(D) = P(B \\bigcap  C) = \\dfrac{k}{n+1} ∗ \\dfrac{k−1}{k} = \\dfrac{k−1}{n+1}$$\n",
    "\n",
    "και η πιθανότητα να μείνει ενα στοιχείο στον reservoir είναι:\n",
    "\n",
    "$$P(E) = P(Α) + P(D) = \\dfrac{n+1−k}{n+1} + \\dfrac{k−1}{n+1} = \\dfrac{n}{n+1}\\ (ανεξάρτητα\\ ενδεχόμενα)$$ \n",
    "\n",
    "Τέλος η πιθανότητα ενα στοιχείνο $n + 1$ να επιλεγέι και να καταλήξει στο reservoir απο την υπόθεση είναι:\n",
    "\n",
    "$$P(E \\bigcap  \"κάποιο\\ προηγούμενο\\ στοιχείο\\ να\\ επιλεγεί\") = \\dfrac{n}{n+1} ∗ \\dfrac{k}{n} = \\dfrac{k}{n+1}$$\n"
   ],
   "cell_type": "markdown",
   "metadata": {}
  },
  {
   "cell_type": "code",
   "execution_count": 14,
   "metadata": {},
   "outputs": [
    {
     "output_type": "stream",
     "name": "stdout",
     "text": [
      "1: ['95', '86', '60', '83', '79']\n2: ['45', '52', '42', '59', '98']\n3: ['46', '32', '24', '96', '13']\n4: ['35', '99', '52', '82', '46']\n5: ['79', '7', '69', '56', '68']\n6: ['85', '77', '61', '37', '36']\n7: ['27', '31', '32', '81', '27']\n8: ['83', '55', '48', '24', '19']\n9: ['6', '50', '89', '40', '38']\n10: ['9', '10', '45', '37', '33']\n"
     ]
    }
   ],
   "source": [
    "import random\n",
    "import re\n",
    "import heapq\n",
    "\n",
    "# Generating data functions\n",
    "def generate_data(file, n):\n",
    "    f = open(file, 'w')\n",
    "    for i in range(n):\n",
    "        number = random.randrange(0,100)\n",
    "        if (i%10) == 9: \n",
    "            f.write(str(number) + '\\n')\n",
    "        else:\n",
    "            f.write(str(number) + ', ')\n",
    "    f.close()\n",
    "\n",
    "def txt_to_array(file):\n",
    "    f = open(file, 'r')\n",
    "    txt_data = f.read()\n",
    "    # [-1] to remove the last empty array cell\n",
    "    result = re.split(', |\\n', txt_data)[:-1]\n",
    "    f.close()\n",
    "    return result\n",
    "\n",
    "# Two reservoir sampling implementations\n",
    "def classic_reservoir_sampling(numbers_stream, k):\n",
    "    reservoir = list()\n",
    "    for i, number in enumerate(numbers_stream):\n",
    "        if i < k:\n",
    "            reservoir.append(number)\n",
    "        else: \n",
    "            random_index = random.randint(0, i)\n",
    "            if random_index < k:\n",
    "                reservoir[random_index] = number\n",
    "    return reservoir\n",
    "\n",
    "def reservoir_sampling_oneliner(stream: list, k: int):\n",
    "    return heapq.nlargest(k, stream, key=lambda x: random.random())\n",
    "\n",
    "# Init\n",
    "file_path = 'ask1_data.txt'\n",
    "generate_data(file_path, 1000)\n",
    "numbers_stream = txt_to_array(file_path)\n",
    "\n",
    "for i in range(1, 11):\n",
    "    result = classic_reservoir_sampling(numbers_stream, 5)\n",
    "    print(\"%d: %s\" % (i, result))\n"
   ]
  },
  {
   "source": [
    "# Weighted Reservoir Sampling\n",
    "\n",
    "The algorithm works as follows. First observe that another way to solve the unweighted reservoir sampling is to assign to each element a random id R between 0 and 1 and incrementally (say with a heap) keep track of the top k ids. Now let's look at weighted version, and let's say the i-th element has weight w_i. Then, we modify the algorithm by choosing the id of the i-th element to be R^(1/w_i) where R is again uniformly distributed in (0,1).\n"
   ],
   "cell_type": "markdown",
   "metadata": {}
  },
  {
   "cell_type": "code",
   "execution_count": 15,
   "metadata": {
    "tags": []
   },
   "outputs": [],
   "source": [
    "# Generating weigthed data functions.\n",
    "\n",
    "def generate_weighted_data(file, n):\n",
    "    f = open(file, 'w')\n",
    "    for i in range(n):\n",
    "        number = random.randrange(0,100)\n",
    "        weight = random.uniform(0,1)\n",
    "        string = str(number) +':'+ str(weight)\n",
    "        if (i%5) == 4: \n",
    "            f.write(string + '\\n')\n",
    "        else:\n",
    "            f.write(string + ', ')\n",
    "    f.close()\n",
    "\n",
    "def weighted_txt_to_array(file):\n",
    "    f = open(file, 'r')\n",
    "    txt_data = f.read()\n",
    "    # [-1] to remove the last empty array cell\n",
    "    result = re.split(', |\\n', txt_data)[:-1]\n",
    "    f.close()\n",
    "    return result\n"
   ]
  },
  {
   "cell_type": "code",
   "execution_count": 16,
   "metadata": {},
   "outputs": [
    {
     "output_type": "stream",
     "name": "stdout",
     "text": [
      "1: [(0.9972520237151015, '56'), (0.9985464568132316, '15'), (0.9977130109976172, '38')]\n2: [(0.9979148505488608, '12'), (0.9991376397966497, '24'), (0.9986284375497358, '86')]\n3: [(0.9928831966679494, '50'), (0.9953637622299327, '46'), (0.9945618011091835, '23')]\n4: [(0.9986697433528486, '46'), (0.9992940141689104, '68'), (0.9999133193321236, '93')]\n5: [(0.9981542445230902, '99'), (0.9993300898845767, '57'), (0.9984790106840231, '81')]\n6: [(0.9977284589520371, '48'), (0.9988714674727966, '86'), (0.9981146253585489, '52')]\n7: [(0.9951758214427074, '27'), (0.9966223049374212, '65'), (0.9981521051274501, '14')]\n8: [(0.9963761928807277, '86'), (0.9981060986709168, '58'), (0.9970266237553045, '71')]\n9: [(0.9986469006146518, '89'), (0.9993983680308022, '97'), (0.9994821713752523, '4')]\n10: [(0.9963214093448665, '95'), (0.9999248083287097, '90'), (0.9996376435139169, '55')]\n"
     ]
    }
   ],
   "source": [
    "file_path = 'weighted_data.txt'\n",
    "generate_weighted_data(file_path, 1000)\n",
    "weighted_array = weighted_txt_to_array(file_path)\n",
    "\n",
    "def weighted_reservoir_sampling(numbers_stream, k):\n",
    "    reservoir = list()\n",
    "    for i, number in enumerate(numbers_stream):\n",
    "        if i < k:\n",
    "            w = random.uniform(0,1)\n",
    "            reservoir.append((w, number))\n",
    "        else:\n",
    "            heapq.heapify(reservoir)\n",
    "            threshold = heapq.nsmallest(1, reservoir)\n",
    "            # TODO: change weight\n",
    "            w = random.uniform(0,1)\n",
    "            if w > threshold[0][0]:\n",
    "                heapq.heapreplace(reservoir, (w, number))\n",
    "    return reservoir\n",
    "\n",
    "\n",
    "for i in range(1, 11):\n",
    "    result = weighted_reservoir_sampling(numbers_stream, 3)\n",
    "    print(\"%d: %s\" % (i, result))"
   ]
  },
  {
   "cell_type": "code",
   "execution_count": null,
   "metadata": {},
   "outputs": [],
   "source": []
  }
 ]
}