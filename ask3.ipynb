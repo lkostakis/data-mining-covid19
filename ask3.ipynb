{
 "cells": [
  {
   "cell_type": "code",
   "execution_count": 48,
   "metadata": {
    "scrolled": false
   },
   "outputs": [
    {
     "data": {
      "text/html": [
       "<div>\n",
       "<style scoped>\n",
       "    .dataframe tbody tr th:only-of-type {\n",
       "        vertical-align: middle;\n",
       "    }\n",
       "\n",
       "    .dataframe tbody tr th {\n",
       "        vertical-align: top;\n",
       "    }\n",
       "\n",
       "    .dataframe thead th {\n",
       "        text-align: right;\n",
       "    }\n",
       "</style>\n",
       "<table border=\"1\" class=\"dataframe\">\n",
       "  <thead>\n",
       "    <tr style=\"text-align: right;\">\n",
       "      <th></th>\n",
       "      <th>Movie 1</th>\n",
       "      <th>Movie 2</th>\n",
       "      <th>Movie 3</th>\n",
       "      <th>Movie 4</th>\n",
       "      <th>Movie 5</th>\n",
       "      <th>Movie 6</th>\n",
       "    </tr>\n",
       "  </thead>\n",
       "  <tbody>\n",
       "    <tr>\n",
       "      <th>User X</th>\n",
       "      <td>5.0</td>\n",
       "      <td>3.0</td>\n",
       "      <td>NaN</td>\n",
       "      <td>1.0</td>\n",
       "      <td>NaN</td>\n",
       "      <td>NaN</td>\n",
       "    </tr>\n",
       "    <tr>\n",
       "      <th>User Y</th>\n",
       "      <td>4.0</td>\n",
       "      <td>2.0</td>\n",
       "      <td>1.0</td>\n",
       "      <td>NaN</td>\n",
       "      <td>NaN</td>\n",
       "      <td>1.0</td>\n",
       "    </tr>\n",
       "    <tr>\n",
       "      <th>User Z</th>\n",
       "      <td>3.0</td>\n",
       "      <td>NaN</td>\n",
       "      <td>NaN</td>\n",
       "      <td>1.0</td>\n",
       "      <td>3.0</td>\n",
       "      <td>3.0</td>\n",
       "    </tr>\n",
       "    <tr>\n",
       "      <th>User W</th>\n",
       "      <td>2.0</td>\n",
       "      <td>5.0</td>\n",
       "      <td>1.0</td>\n",
       "      <td>5.0</td>\n",
       "      <td>3.0</td>\n",
       "      <td>4.0</td>\n",
       "    </tr>\n",
       "  </tbody>\n",
       "</table>\n",
       "</div>"
      ],
      "text/plain": [
       "        Movie 1  Movie 2  Movie 3  Movie 4  Movie 5  Movie 6\n",
       "User X      5.0      3.0      NaN      1.0      NaN      NaN\n",
       "User Y      4.0      2.0      1.0      NaN      NaN      1.0\n",
       "User Z      3.0      NaN      NaN      1.0      3.0      3.0\n",
       "User W      2.0      5.0      1.0      5.0      3.0      4.0"
      ]
     },
     "execution_count": 48,
     "metadata": {},
     "output_type": "execute_result"
    }
   ],
   "source": [
    "import pandas as pd\n",
    "import numpy as np\n",
    "from sklearn.metrics.pairwise import cosine_similarity as cs\n",
    "\n",
    "# Creating the database with the ratings\n",
    "user_ratings = pd.DataFrame({'Movie 1':[5.0, 4.0, 3.0, 2.0], 'Movie 2': [3, 2, None, 5],\n",
    "                             'Movie 3':[None, 1, None, 1], 'Movie 4': [1, None, 1, 5],\n",
    "                             'Movie 5': [None, None, 3, 3], 'Movie 6': [None, 1, 3, 4]},\n",
    "                             index = ['User X', 'User Y', 'User Z', 'User W'])\n",
    "user_ratings"
   ]
  },
  {
   "cell_type": "code",
   "execution_count": 90,
   "metadata": {},
   "outputs": [
    {
     "name": "stdout",
     "output_type": "stream",
     "text": [
      "pairwise dense output:\n",
      " [[1.         0.93697496 0.51110125 0.56694671]\n",
      " [0.93697496 1.         0.60436722 0.54824099]\n",
      " [0.51110125 0.60436722 1.         0.6761234 ]\n",
      " [0.56694671 0.54824099 0.6761234  1.        ]]\n",
      "\n",
      "pairwise sparse output:\n",
      "   (0, 3)\t0.5669467095138409\n",
      "  (0, 2)\t0.5111012519999519\n",
      "  (0, 1)\t0.9369749612033813\n",
      "  (0, 0)\t1.0\n",
      "  (1, 3)\t0.5482409888162156\n",
      "  (1, 2)\t0.6043672230190352\n",
      "  (1, 1)\t0.9999999999999998\n",
      "  (1, 0)\t0.9369749612033813\n",
      "  (2, 3)\t0.6761234037828132\n",
      "  (2, 2)\t1.0\n",
      "  (2, 1)\t0.6043672230190352\n",
      "  (2, 0)\t0.5111012519999519\n",
      "  (3, 3)\t1.0000000000000002\n",
      "  (3, 2)\t0.6761234037828132\n",
      "  (3, 1)\t0.5482409888162156\n",
      "  (3, 0)\t0.5669467095138409\n",
      "\n"
     ]
    }
   ],
   "source": [
    "from sklearn.metrics.pairwise import cosine_similarity\n",
    "from scipy import sparse\n",
    "\n",
    "A =  np.array([user_ratings.loc['User X'].values,\n",
    "               user_ratings.loc['User Y'].values,\n",
    "               user_ratings.loc['User Z'].values,\n",
    "               user_ratings.loc['User W'].values])\n",
    "A_sparse = sparse.csr_matrix(A)\n",
    "\n",
    "similarities = cosine_similarity(A_sparse)\n",
    "print('pairwise dense output:\\n {}\\n'.format(similarities))\n",
    "\n",
    "#also can output sparse matrices\n",
    "similarities_sparse = cosine_similarity(A_sparse,dense_output=False)\n",
    "print('pairwise sparse output:\\n {}\\n'.format(similarities_sparse))"
   ]
  },
  {
   "cell_type": "code",
   "execution_count": 95,
   "metadata": {},
   "outputs": [
    {
     "name": "stdout",
     "output_type": "stream",
     "text": [
      "cosine similarities table:\n",
      " [[1.         0.93697496 0.51110125 0.56694671]\n",
      " [0.93697496 1.         0.60436722 0.54824099]\n",
      " [0.51110125 0.60436722 1.         0.6761234 ]\n",
      " [0.56694671 0.54824099 0.6761234  1.        ]]\n",
      "\n"
     ]
    }
   ],
   "source": [
    "from sklearn.metrics.pairwise import cosine_similarity\n",
    "from scipy import sparse\n",
    "\n",
    "A =  np.array([user_ratings.loc['User X'].values,\n",
    "               user_ratings.loc['User Y'].values,\n",
    "               user_ratings.loc['User Z'].values,\n",
    "               user_ratings.loc['User W'].values])\n",
    "A_sparse = sparse.csr_matrix(A)\n",
    "\n",
    "similarities = cosine_similarity(A_sparse)\n",
    "print('cosine similarities table:\\n {}\\n'.format(similarities))\n"
   ]
  }
 ],
 "metadata": {
  "kernelspec": {
   "display_name": "Python 3",
   "language": "python",
   "name": "python3"
  },
  "language_info": {
   "codemirror_mode": {
    "name": "ipython",
    "version": 3
   },
   "file_extension": ".py",
   "mimetype": "text/x-python",
   "name": "python",
   "nbconvert_exporter": "python",
   "pygments_lexer": "ipython3",
   "version": "3.8.3"
  }
 },
 "nbformat": 4,
 "nbformat_minor": 4
}
