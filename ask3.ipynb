{
 "cells": [
  {
   "cell_type": "code",
   "execution_count": 2,
   "metadata": {
    "scrolled": true
   },
   "outputs": [
    {
     "data": {
      "text/html": [
       "<div>\n",
       "<style scoped>\n",
       "    .dataframe tbody tr th:only-of-type {\n",
       "        vertical-align: middle;\n",
       "    }\n",
       "\n",
       "    .dataframe tbody tr th {\n",
       "        vertical-align: top;\n",
       "    }\n",
       "\n",
       "    .dataframe thead th {\n",
       "        text-align: right;\n",
       "    }\n",
       "</style>\n",
       "<table border=\"1\" class=\"dataframe\">\n",
       "  <thead>\n",
       "    <tr style=\"text-align: right;\">\n",
       "      <th></th>\n",
       "      <th>Movie 1</th>\n",
       "      <th>Movie 2</th>\n",
       "      <th>Movie 3</th>\n",
       "      <th>Movie 4</th>\n",
       "      <th>Movie 5</th>\n",
       "      <th>Movie 6</th>\n",
       "    </tr>\n",
       "  </thead>\n",
       "  <tbody>\n",
       "    <tr>\n",
       "      <th>User X</th>\n",
       "      <td>5.0</td>\n",
       "      <td>3.0</td>\n",
       "      <td>NaN</td>\n",
       "      <td>1.0</td>\n",
       "      <td>NaN</td>\n",
       "      <td>NaN</td>\n",
       "    </tr>\n",
       "    <tr>\n",
       "      <th>User Y</th>\n",
       "      <td>4.0</td>\n",
       "      <td>2.0</td>\n",
       "      <td>1.0</td>\n",
       "      <td>NaN</td>\n",
       "      <td>NaN</td>\n",
       "      <td>1.0</td>\n",
       "    </tr>\n",
       "    <tr>\n",
       "      <th>User Z</th>\n",
       "      <td>3.0</td>\n",
       "      <td>NaN</td>\n",
       "      <td>NaN</td>\n",
       "      <td>1.0</td>\n",
       "      <td>3.0</td>\n",
       "      <td>3.0</td>\n",
       "    </tr>\n",
       "    <tr>\n",
       "      <th>User W</th>\n",
       "      <td>2.0</td>\n",
       "      <td>5.0</td>\n",
       "      <td>1.0</td>\n",
       "      <td>5.0</td>\n",
       "      <td>3.0</td>\n",
       "      <td>4.0</td>\n",
       "    </tr>\n",
       "  </tbody>\n",
       "</table>\n",
       "</div>"
      ],
      "text/plain": [
       "        Movie 1  Movie 2  Movie 3  Movie 4  Movie 5  Movie 6\n",
       "User X      5.0      3.0      NaN      1.0      NaN      NaN\n",
       "User Y      4.0      2.0      1.0      NaN      NaN      1.0\n",
       "User Z      3.0      NaN      NaN      1.0      3.0      3.0\n",
       "User W      2.0      5.0      1.0      5.0      3.0      4.0"
      ]
     },
     "execution_count": 2,
     "metadata": {},
     "output_type": "execute_result"
    }
   ],
   "source": [
    "import pandas as pd\n",
    "import numpy as np\n",
    "\n",
    "# Creating the database with the ratings\n",
    "user_ratings = pd.DataFrame({'Movie 1':[5.0, 4.0, 3.0, 2.0], 'Movie 2': [3, 2, None, 5],\n",
    "                             'Movie 3':[None, 1, None, 1], 'Movie 4': [1, None, 1, 5],\n",
    "                             'Movie 5': [None, None, 3, 3], 'Movie 6': [None, 1, 3, 4]},\n",
    "                             index = ['User X', 'User Y', 'User Z', 'User W'])\n",
    "user_ratings"
   ]
  },
  {
   "cell_type": "code",
   "execution_count": 4,
   "metadata": {
    "scrolled": false
   },
   "outputs": [
    {
     "data": {
      "text/plain": [
       "2.1309366449453377"
      ]
     },
     "execution_count": 4,
     "metadata": {},
     "output_type": "execute_result"
    }
   ],
   "source": [
    "from sklearn.metrics.pairwise import cosine_similarity\n",
    "from scipy import sparse\n",
    "import heapq\n",
    "\n",
    "A =  np.array([user_ratings.loc['User X'].values,\n",
    "               user_ratings.loc['User Y'].values,\n",
    "               user_ratings.loc['User Z'].values,\n",
    "               user_ratings.loc['User W'].values])\n",
    "\n",
    "A_sparse = sparse.csr_matrix(A)\n",
    "A_sparse = np.nan_to_num(A_sparse.toarray())\n",
    "\n",
    "similarities = cosine_similarity(A_sparse)\n",
    "\n",
    "# Get the 2 largest values and its' index value\n",
    "index = heapq.nlargest(2, range(1,len(similarities[0])), similarities[0].take)\n",
    "values = [similarities[0][index[0]], similarities[0][index[1]]]\n",
    "provlepsi = values[0]*user_ratings.iloc[index[0]].values[5] + values[1]*user_ratings.iloc[index[1]].values[5]\n",
    "provlepsi /= values[0]+values[1]\n",
    "provlepsi"
   ]
  },
  {
   "cell_type": "code",
   "execution_count": 3,
   "metadata": {},
   "outputs": [
    {
     "data": {
      "text/plain": [
       "2.878679656440357"
      ]
     },
     "execution_count": 3,
     "metadata": {},
     "output_type": "execute_result"
    }
   ],
   "source": [
    "from sklearn.metrics.pairwise import cosine_similarity\n",
    "from scipy import sparse\n",
    "import heapq\n",
    "\n",
    "mean_ratings_dev = user_ratings.sub(user_ratings.mean(axis = 1, skipna = True), axis = 0)\n",
    "\n",
    "A =  np.array([mean_ratings_dev.loc['User X'].values,\n",
    "               mean_ratings_dev.loc['User Y'].values,\n",
    "               mean_ratings_dev.loc['User Z'].values,\n",
    "               mean_ratings_dev.loc['User W'].values])\n",
    "\n",
    "A_sparse = sparse.csr_matrix(A)\n",
    "A_sparse = np.nan_to_num(A_sparse.toarray())\n",
    "\n",
    "similarities = cosine_similarity(A_sparse)\n",
    "\n",
    "index = heapq.nlargest(2, range(1,len(similarities[0])), similarities[0].take)\n",
    "values = [similarities[0][index[0]], similarities[0][index[1]]]\n",
    "\n",
    "provlepsi = values[0]*mean_ratings_dev.iloc[index[0]].values[5] + values[1]*mean_ratings_dev.iloc[index[1]].values[5]\n",
    "provlepsi /= values[0]+values[1]\n",
    "provlepsi += user_ratings.loc['User X'].mean(skipna = True)\n",
    "provlepsi"
   ]
  }
 ],
 "metadata": {
  "kernelspec": {
   "display_name": "Python 3",
   "language": "python",
   "name": "python3"
  },
  "language_info": {
   "codemirror_mode": {
    "name": "ipython",
    "version": 3
   },
   "file_extension": ".py",
   "mimetype": "text/x-python",
   "name": "python",
   "nbconvert_exporter": "python",
   "pygments_lexer": "ipython3",
   "version": "3.8.3"
  }
 },
 "nbformat": 4,
 "nbformat_minor": 4
}
