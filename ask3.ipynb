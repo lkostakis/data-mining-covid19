{
 "cells": [
  {
   "cell_type": "markdown",
   "metadata": {},
   "source": [
    "# $\\;\\;\\;\\;\\;\\;\\;\\;\\;\\;\\;\\;\\;\\;\\;\\;\\;\\;\\;\\;\\;\\;\\;\\;\\;\\;\\;\\;\\;\\;\\;\\;$ΑΣΚΗΣΗ 3\n",
    "$\\;\\;\\;\\;\\;\\;\\;\\;\\;\\;\\;\\;\\;\\;\\;\\;\\;\\;\\;\\;\\;\\;\\;\\;\\;\\;\\;\\;\\;\\;\\;\\;\\;\\;\\;\\;\\;\\;\\;\\;\\;\\;\\;\\;\\;\\;\\;\\;\\;\\;\\;\\;\\;\\;\\;\\;\\;\\;\\;\\;\\;\\;\\;\\;\\;\\;\\;\\;\\;\\;\\;\\;\\;\\;\\;\\;\\;\\;\\;\\;\\;\\;\\;\\;\\;\\;\\;\\;\\;\\;\\;\\;\\;\\;\\;\\;\\;\\;\\;\\;\\;\\;\\;\\;\\;\\;\\;\\;\\;\\;\\;\\;\\;\\;\\;\\;\\;\\;\\;\\;$Βασίλης Πουλος, 2805\n",
    "$\\;\\;\\;\\;\\;\\;\\;\\;\\;\\;\\;\\;\\;\\;\\;\\;\\;\\;\\;\\;\\;\\;\\;\\;\\;\\;\\;\\;\\;\\;\\;\\;\\;\\;\\;\\;\\;\\;\\;\\;\\;\\;\\;\\;\\;\\;\\;\\;\\;\\;\\;\\;\\;\\;\\;\\;\\;\\;\\;\\;\\;\\;\\;\\;\\;\\;\\;\\;\\;\\;\\;\\;\\;\\;\\;\\;\\;\\;\\;\\;\\;\\;\\;\\;\\;\\;\\;\\;\\;\\;\\;\\;\\;\\;\\;\\;\\;\\;\\;\\;\\;\\;\\;\\;\\;\\;\\;\\;\\;\\;\\;\\;\\;\\;\\;\\;\\;\\;\\;\\;$Κωστάκης Ελευθέριος-Παναγιώτης, 2741\n"
   ]
  },
  {
   "cell_type": "markdown",
   "metadata": {},
   "source": [
    "### Φτιάχνουμε τον αρχικό πίνακα μια φορά στην αρχή και για τις δυο εκδοχές του αλγορίθμου."
   ]
  },
  {
   "cell_type": "code",
   "execution_count": 2,
   "metadata": {
    "scrolled": false
   },
   "outputs": [
    {
     "data": {
      "text/html": [
       "<div>\n",
       "<style scoped>\n",
       "    .dataframe tbody tr th:only-of-type {\n",
       "        vertical-align: middle;\n",
       "    }\n",
       "\n",
       "    .dataframe tbody tr th {\n",
       "        vertical-align: top;\n",
       "    }\n",
       "\n",
       "    .dataframe thead th {\n",
       "        text-align: right;\n",
       "    }\n",
       "</style>\n",
       "<table border=\"1\" class=\"dataframe\">\n",
       "  <thead>\n",
       "    <tr style=\"text-align: right;\">\n",
       "      <th></th>\n",
       "      <th>Movie 1</th>\n",
       "      <th>Movie 2</th>\n",
       "      <th>Movie 3</th>\n",
       "      <th>Movie 4</th>\n",
       "      <th>Movie 5</th>\n",
       "      <th>Movie 6</th>\n",
       "    </tr>\n",
       "  </thead>\n",
       "  <tbody>\n",
       "    <tr>\n",
       "      <th>User X</th>\n",
       "      <td>5.0</td>\n",
       "      <td>3.0</td>\n",
       "      <td>NaN</td>\n",
       "      <td>1.0</td>\n",
       "      <td>NaN</td>\n",
       "      <td>NaN</td>\n",
       "    </tr>\n",
       "    <tr>\n",
       "      <th>User Y</th>\n",
       "      <td>4.0</td>\n",
       "      <td>2.0</td>\n",
       "      <td>1.0</td>\n",
       "      <td>NaN</td>\n",
       "      <td>NaN</td>\n",
       "      <td>1.0</td>\n",
       "    </tr>\n",
       "    <tr>\n",
       "      <th>User Z</th>\n",
       "      <td>3.0</td>\n",
       "      <td>NaN</td>\n",
       "      <td>NaN</td>\n",
       "      <td>1.0</td>\n",
       "      <td>3.0</td>\n",
       "      <td>3.0</td>\n",
       "    </tr>\n",
       "    <tr>\n",
       "      <th>User W</th>\n",
       "      <td>2.0</td>\n",
       "      <td>5.0</td>\n",
       "      <td>1.0</td>\n",
       "      <td>5.0</td>\n",
       "      <td>3.0</td>\n",
       "      <td>4.0</td>\n",
       "    </tr>\n",
       "  </tbody>\n",
       "</table>\n",
       "</div>"
      ],
      "text/plain": [
       "        Movie 1  Movie 2  Movie 3  Movie 4  Movie 5  Movie 6\n",
       "User X      5.0      3.0      NaN      1.0      NaN      NaN\n",
       "User Y      4.0      2.0      1.0      NaN      NaN      1.0\n",
       "User Z      3.0      NaN      NaN      1.0      3.0      3.0\n",
       "User W      2.0      5.0      1.0      5.0      3.0      4.0"
      ]
     },
     "execution_count": 2,
     "metadata": {},
     "output_type": "execute_result"
    }
   ],
   "source": [
    "import pandas as pd\n",
    "import numpy as np\n",
    "\n",
    "# Creating the database with the ratings\n",
    "user_ratings = pd.DataFrame({'Movie 1':[5.0, 4.0, 3.0, 2.0], 'Movie 2': [3, 2, None, 5],\n",
    "                             'Movie 3':[None, 1, None, 1], 'Movie 4': [1, None, 1, 5],\n",
    "                             'Movie 5': [None, None, 3, 3], 'Movie 6': [None, 1, 3, 4]},\n",
    "                             index = ['User X', 'User Y', 'User Z', 'User W'])\n",
    "user_ratings"
   ]
  },
  {
   "cell_type": "markdown",
   "metadata": {},
   "source": [
    "### Υλοποίηση της πρώτης εκδοχής  του αλγορίθμου"
   ]
  },
  {
   "cell_type": "code",
   "execution_count": 86,
   "metadata": {},
   "outputs": [
    {
     "name": "stdout",
     "output_type": "stream",
     "text": [
      "+--------------+--------+--------------------+--------------------+--------------------+\n",
      "| Similarities | User X |       User Y       |       User Z       |       User W       |\n",
      "+--------------+--------+--------------------+--------------------+--------------------+\n",
      "|    User X    |  1.0   | 0.9369749612033813 | 0.5111012519999519 | 0.5669467095138409 |\n",
      "+--------------+--------+--------------------+--------------------+--------------------+\n",
      "\n",
      "\u001b[1m\u001b[4mH provlepsi gia tin kritiki (X,6) einai:\u001b[1m\u001b[0m 2.1309366449453377\n"
     ]
    }
   ],
   "source": [
    "from sklearn.metrics.pairwise import cosine_similarity\n",
    "from scipy import sparse\n",
    "import heapq\n",
    "\n",
    "A =  np.array([user_ratings.loc['User X'].values,\n",
    "               user_ratings.loc['User Y'].values,\n",
    "               user_ratings.loc['User Z'].values,\n",
    "               user_ratings.loc['User W'].values])\n",
    "\n",
    "A_sparse = sparse.csr_matrix(A)\n",
    "A_sparse = np.nan_to_num(A_sparse.toarray())\n",
    "\n",
    "similarities = cosine_similarity(A_sparse)\n",
    "\n",
    "# Print Similarity table for User X\n",
    "from prettytable import PrettyTable\n",
    "t = PrettyTable(['Similarities','User X', 'User Y', 'User Z', 'User W'])\n",
    "t.add_row(['User X', similarities[0][0], similarities[0][1], similarities[0][2], similarities[0][3]])\n",
    "print(t)\n",
    "\n",
    "# Get the 2 largest values and its' index value\n",
    "index = heapq.nlargest(2, range(1,len(similarities[0])), similarities[0].take)\n",
    "values = [similarities[0][index[0]], similarities[0][index[1]]]\n",
    "provlepsi = values[0]*user_ratings.iloc[index[0]].values[5] + values[1]*user_ratings.iloc[index[1]].values[5]\n",
    "provlepsi /= values[0]+values[1]\n",
    "print('\\n'+'\\033[1m'+'\\033[4m'+'H provlepsi gia tin kritiki (X,6) einai:'+'\\033[1m'+'\\033[0m', provlepsi)"
   ]
  },
  {
   "cell_type": "markdown",
   "metadata": {},
   "source": [
    "### Υλοποίηση της δεύτερης εκδοχής  του αλγορίθμου"
   ]
  },
  {
   "cell_type": "code",
   "execution_count": 85,
   "metadata": {
    "scrolled": false
   },
   "outputs": [
    {
     "name": "stdout",
     "output_type": "stream",
     "text": [
      "\n",
      "\u001b[1m\u001b[4mUser ratings afairontas tin mesi timh kathe grammhs:\u001b[1m\u001b[0m\n",
      "         Movie 1   Movie 2   Movie 3   Movie 4   Movie 5   Movie 6\n",
      "User X  2.000000  0.000000       NaN -2.000000       NaN       NaN\n",
      "User Y  2.000000  0.000000 -1.000000       NaN       NaN -1.000000\n",
      "User Z  0.500000       NaN       NaN -1.500000  0.500000  0.500000\n",
      "User W -1.333333  1.666667 -2.333333  1.666667 -0.333333  0.666667\n",
      "\n",
      "\u001b[1m\u001b[4mSimilarity table gia ton User X\u001b[1m\u001b[0m\n",
      "+--------------+--------------------+--------------------+-------------------+---------------------+\n",
      "| Similarities |       User X       |       User Y       |       User Z      |        User W       |\n",
      "+--------------+--------------------+--------------------+-------------------+---------------------+\n",
      "|    User X    | 0.9999999999999998 | 0.5773502691896258 | 0.816496580927726 | -0.5809475019311123 |\n",
      "+--------------+--------------------+--------------------+-------------------+---------------------+\n",
      "\n",
      "\u001b[1m\u001b[4mH provlepsi gia tin kritiki (X,6) einai:\u001b[1m\u001b[0m 2.878679656440357\n"
     ]
    }
   ],
   "source": [
    "from sklearn.metrics.pairwise import cosine_similarity\n",
    "from scipy import sparse\n",
    "import heapq\n",
    "\n",
    "mean_ratings_dev = user_ratings.sub(user_ratings.mean(axis = 1, skipna = True), axis = 0)\n",
    "print('\\n'+'\\033[1m'+'\\033[4m'+'User ratings afairontas tin mesi timh kathe grammhs:'+'\\033[1m'+'\\033[0m')\n",
    "print(mean_ratings_dev)\n",
    "\n",
    "A =  np.array([mean_ratings_dev.loc['User X'].values,\n",
    "               mean_ratings_dev.loc['User Y'].values,\n",
    "               mean_ratings_dev.loc['User Z'].values,\n",
    "               mean_ratings_dev.loc['User W'].values])\n",
    "\n",
    "A_sparse = sparse.csr_matrix(A)\n",
    "A_sparse = np.nan_to_num(A_sparse.toarray())\n",
    "\n",
    "similarities = cosine_similarity(A_sparse)\n",
    "# Print Similarity table for User X\n",
    "from prettytable import PrettyTable\n",
    "t = PrettyTable(['Similarities','User X', 'User Y', 'User Z', 'User W'])\n",
    "t.add_row(['User X', similarities[0][0], similarities[0][1], similarities[0][2], similarities[0][3]])\n",
    "print('\\n'+'\\033[1m'+'\\033[4m'+'Similarity table gia ton User X'+'\\033[1m'+'\\033[0m')\n",
    "print(t)\n",
    "\n",
    "index = heapq.nlargest(2, range(1,len(similarities[0])), similarities[0].take)\n",
    "values = [similarities[0][index[0]], similarities[0][index[1]]]\n",
    "\n",
    "provlepsi = values[0]*mean_ratings_dev.iloc[index[0]].values[5] + values[1]*mean_ratings_dev.iloc[index[1]].values[5]\n",
    "provlepsi /= values[0]+values[1]\n",
    "provlepsi += user_ratings.loc['User X'].mean(skipna = True)\n",
    "print('\\n'+'\\033[1m'+'\\033[4m'+'H provlepsi gia tin kritiki (X,6) einai:'+'\\033[1m'+'\\033[0m',provlepsi)"
   ]
  },
  {
   "cell_type": "markdown",
   "metadata": {},
   "source": [
    "<br><br><br>\n",
    "## Ανάλυση των αλγορίθμων και αποτελεσμάτων"
   ]
  },
  {
   "cell_type": "markdown",
   "metadata": {},
   "source": [
    "\n",
    "$\\;\\;\\;$Παρατηρούμε ότι υπάρχει αξιοσημείωτη διαφορά στις δύο περιπτώσεις, αυτό συμβαίνει διότι στην πρώτη εκδοχή του αλγορίθμου υπολογίζουμε την εκτίμιση (Χ,6) βάσει των βαθμολογιών των χρηστών, ενώ στην δεύτερη παίρνουμε την απόκλιση από την μέση τιμή των βαθμολογιών για κάθε χρήστη.<br><br>\n",
    "$\\;\\;\\;$Έτσι σε κάθε περίπτωση παίρνουμε διαφορετικά cosine similarities.\n",
    "Στην πρώτη εκδοχή οι χρήστες με την μεγαλύτερη ομοιότητα είναι ο Υ με cos_sim(X,Y)=0,93 και ο W με cos_sim(X,W)=0.56 ενώ στην δεύτερη εκδοχή έχουμε τον Ζ με τον Υ με cos_sim(X,Z)=0.81 και cos(X,Y)=0.57 αντίστοιχα.\n",
    "\n",
    "\n",
    "$\\;\\;\\;$Αυτές οι αλλαγές υπάρχουν διότι κλαθε εκδοχή 'δουλεύει' διαφορετικά. Συγκεκριμένα για την πρώτη εκδοχή υπολογίζεται η ομοιότητα βάσει τις τιμές των βαθμολογιών, ενώ στην δεύτερη παίζει ρόλο η ομοιότητα ανάμεσα στην τυπική απόκλιση των βαθμολογιών. \n",
    "\n",
    "$\\;\\;\\;$Στην πρώτη οι χρήστες με τη μεγαλύτερη βαρύτητα ως προς το αποτέλεσμα είναι ο Y=1 και ο W=4 με τον Υ να έχει μεγαλύτερο βάρος cos_sim(X,Y)=0.936 από τον W με cos_sim(X,W)=0,56. Στην περίπτωση που κοιτάμε τον Y σε σχέση με τον X, έχει μεγάλη ομοιότητα διότι στις ίδιες ταινίες έχουν δώσει παρόμοιες βαθμολογίες, για την 'Movie 1' ο Χ και Y έχουν βαθμολογίσει με 5 και 4 αντίστοιχα καθώς και στην ταινία 2 έχουν δώσει 3 και 2 αντίστοιχα, έτσι αυξάνεται σημαντικά ο αριθμιτής στον τύπο της ομοιότητας. Ενώ κάτι τέτοιο δεν ισχυέι για τον χρήστη W σε σχέση με τον Χ, όπου έχουν βαθμολογίσει τις ίδιες ταινίες με αρκετά διαφορετική βαθμολογία. Ο Χ δίνει 5 και 3 όπως είπαμε για 'Movie 1' και 'Movie 2' ενώ ο W με 2 και 5 αντίστοιχα. Στην ταινία 6 ο Y δίνει 1 και ο W 4, οπότε διαισθητικά λέμε ότι η βαθμολογία θα είναι σαφώς πιο κοντά σε αυτήν που έδωσε ο Υ παρά ο W. Και έτσι είναι με 2.13.<br>\n",
    "\n",
    "$\\;\\;\\;$Στην δεύτερη περίπτωση κοιτάμε διαφορετικούς χρήστες. Την μεγαλύτερη ομοιότητα με τον Χ έχουν οι χρήστες Ζ με τιμή 0.816 και Υ με 0.577. Εδώ ο Ζ επηρεάζει περισσότερο τον Χ και δίνει βαθμολογία 0.5(με τον νέο πίνακα) για την ταινία 6 με τις ταινίες που παίζουν ρόλο να είναι οι 'Movie 1', 'Movie 5' και 'Movie 6' γιατί δίνουν πολύ μικρή τυπική απόκλιση, όντας πιο σταθερός στις επιλογές του και έτσι να υπάρχει μεγαλύτερη ομοιότητα. Ο 'Υ' δίνει -1. Επομένως η βαθμολογία θα πρέπει να βρίσκεται περισσότερο κοντά σε αυτήν του χρήστη Ζ και σε συνδιασμό με την αρνητική βαθμολογία που δίνει ο Υ η προβλεπόμενη κριτική είναι 2.87."
   ]
  }
 ],
 "metadata": {
  "kernelspec": {
   "display_name": "Python 3",
   "language": "python",
   "name": "python3"
  },
  "language_info": {
   "codemirror_mode": {
    "name": "ipython",
    "version": 3
   },
   "file_extension": ".py",
   "mimetype": "text/x-python",
   "name": "python",
   "nbconvert_exporter": "python",
   "pygments_lexer": "ipython3",
   "version": "3.8.3"
  }
 },
 "nbformat": 4,
 "nbformat_minor": 4
}
